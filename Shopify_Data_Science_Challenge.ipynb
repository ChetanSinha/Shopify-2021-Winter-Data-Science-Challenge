{
  "nbformat": 4,
  "nbformat_minor": 0,
  "metadata": {
    "colab": {
      "name": "Shopify_Data_Science_Challenge.ipynb",
      "provenance": [],
      "collapsed_sections": [
        "NfTQ2K5vI9GS",
        "t4x19goVMzj4",
        "4v3XymSRXYaq",
        "7zQkgvM8lOhB",
        "902pHl6glfLt",
        "meK68XBpmZQJ",
        "t0AGDRCLlsvq"
      ]
    },
    "kernelspec": {
      "name": "python3",
      "display_name": "Python 3"
    }
  },
  "cells": [
    {
      "cell_type": "code",
      "metadata": {
        "id": "LMmbvaDv_wrV",
        "colab_type": "code",
        "colab": {}
      },
      "source": [
        "# Authenticating drive permissions\n",
        "from pydrive.auth import GoogleAuth\n",
        "from pydrive.drive import GoogleDrive\n",
        "from google.colab import auth\n",
        "from oauth2client.client import GoogleCredentials\n",
        "\n",
        "auth.authenticate_user()\n",
        "gauth = GoogleAuth()\n",
        "gauth.credentials = GoogleCredentials.get_application_default()\n",
        "drive = GoogleDrive(gauth)"
      ],
      "execution_count": null,
      "outputs": []
    },
    {
      "cell_type": "code",
      "metadata": {
        "id": "mvILJEceACsS",
        "colab_type": "code",
        "colab": {}
      },
      "source": [
        "# downloading the file from drive\n",
        "downloaded = drive.CreateFile({'id':\"1nJre5cbxLZ_IoQhknS7ZPo2-GlBAgp5K\"})\n",
        "downloaded.GetContentFile('Shopify.csv')"
      ],
      "execution_count": null,
      "outputs": []
    },
    {
      "cell_type": "markdown",
      "metadata": {
        "id": "lH44i2tkA8Xc",
        "colab_type": "text"
      },
      "source": [
        "# Question: 1"
      ]
    },
    {
      "cell_type": "code",
      "metadata": {
        "id": "a0PYgbfAA2Yg",
        "colab_type": "code",
        "colab": {}
      },
      "source": [
        "# Importing Libraries\n",
        "import pandas as pd\n",
        "import numpy as np\n",
        "import matplotlib.pyplot as plt\n",
        "import seaborn as sns\n",
        "%matplotlib inline"
      ],
      "execution_count": null,
      "outputs": []
    },
    {
      "cell_type": "markdown",
      "metadata": {
        "id": "xpWB_6a3BKjI",
        "colab_type": "text"
      },
      "source": [
        "## EDA"
      ]
    },
    {
      "cell_type": "code",
      "metadata": {
        "id": "MMViztl_BDvo",
        "colab_type": "code",
        "colab": {
          "base_uri": "https://localhost:8080/",
          "height": 34
        },
        "outputId": "95de2d9c-0bc2-49a7-8b23-d0f7be83b1c6"
      },
      "source": [
        "# Loading Data\n",
        "data = pd.read_csv(\"Shopify.csv\")\n",
        "data.shape"
      ],
      "execution_count": null,
      "outputs": [
        {
          "output_type": "execute_result",
          "data": {
            "text/plain": [
              "(5000, 7)"
            ]
          },
          "metadata": {
            "tags": []
          },
          "execution_count": 6
        }
      ]
    },
    {
      "cell_type": "code",
      "metadata": {
        "id": "W3VfNGOKBP3P",
        "colab_type": "code",
        "colab": {
          "base_uri": "https://localhost:8080/",
          "height": 299
        },
        "outputId": "cd94dea1-cebe-4c3f-8e01-fc3692a536c2"
      },
      "source": [
        "data.head()"
      ],
      "execution_count": null,
      "outputs": [
        {
          "output_type": "execute_result",
          "data": {
            "text/html": [
              "<div>\n",
              "<style scoped>\n",
              "    .dataframe tbody tr th:only-of-type {\n",
              "        vertical-align: middle;\n",
              "    }\n",
              "\n",
              "    .dataframe tbody tr th {\n",
              "        vertical-align: top;\n",
              "    }\n",
              "\n",
              "    .dataframe thead th {\n",
              "        text-align: right;\n",
              "    }\n",
              "</style>\n",
              "<table border=\"1\" class=\"dataframe\">\n",
              "  <thead>\n",
              "    <tr style=\"text-align: right;\">\n",
              "      <th></th>\n",
              "      <th>order_id</th>\n",
              "      <th>shop_id</th>\n",
              "      <th>user_id</th>\n",
              "      <th>order_amount</th>\n",
              "      <th>total_items</th>\n",
              "      <th>payment_method</th>\n",
              "      <th>created_at</th>\n",
              "    </tr>\n",
              "  </thead>\n",
              "  <tbody>\n",
              "    <tr>\n",
              "      <th>0</th>\n",
              "      <td>1</td>\n",
              "      <td>53</td>\n",
              "      <td>746</td>\n",
              "      <td>224</td>\n",
              "      <td>2</td>\n",
              "      <td>cash</td>\n",
              "      <td>2017-03-13 12:36:56</td>\n",
              "    </tr>\n",
              "    <tr>\n",
              "      <th>1</th>\n",
              "      <td>2</td>\n",
              "      <td>92</td>\n",
              "      <td>925</td>\n",
              "      <td>90</td>\n",
              "      <td>1</td>\n",
              "      <td>cash</td>\n",
              "      <td>2017-03-03 17:38:52</td>\n",
              "    </tr>\n",
              "    <tr>\n",
              "      <th>2</th>\n",
              "      <td>3</td>\n",
              "      <td>44</td>\n",
              "      <td>861</td>\n",
              "      <td>144</td>\n",
              "      <td>1</td>\n",
              "      <td>cash</td>\n",
              "      <td>2017-03-14 4:23:56</td>\n",
              "    </tr>\n",
              "    <tr>\n",
              "      <th>3</th>\n",
              "      <td>4</td>\n",
              "      <td>18</td>\n",
              "      <td>935</td>\n",
              "      <td>156</td>\n",
              "      <td>1</td>\n",
              "      <td>credit_card</td>\n",
              "      <td>2017-03-26 12:43:37</td>\n",
              "    </tr>\n",
              "    <tr>\n",
              "      <th>4</th>\n",
              "      <td>5</td>\n",
              "      <td>18</td>\n",
              "      <td>883</td>\n",
              "      <td>156</td>\n",
              "      <td>1</td>\n",
              "      <td>credit_card</td>\n",
              "      <td>2017-03-01 4:35:11</td>\n",
              "    </tr>\n",
              "  </tbody>\n",
              "</table>\n",
              "</div>"
            ],
            "text/plain": [
              "   order_id  shop_id  user_id  ...  total_items  payment_method           created_at\n",
              "0         1       53      746  ...            2            cash  2017-03-13 12:36:56\n",
              "1         2       92      925  ...            1            cash  2017-03-03 17:38:52\n",
              "2         3       44      861  ...            1            cash   2017-03-14 4:23:56\n",
              "3         4       18      935  ...            1     credit_card  2017-03-26 12:43:37\n",
              "4         5       18      883  ...            1     credit_card   2017-03-01 4:35:11\n",
              "\n",
              "[5 rows x 7 columns]"
            ]
          },
          "metadata": {
            "tags": []
          },
          "execution_count": 7
        }
      ]
    },
    {
      "cell_type": "code",
      "metadata": {
        "id": "X871ug7IBRiP",
        "colab_type": "code",
        "colab": {
          "base_uri": "https://localhost:8080/",
          "height": 284
        },
        "outputId": "55df57ad-4844-49b9-9762-db56a1f4186b"
      },
      "source": [
        "data.describe()"
      ],
      "execution_count": null,
      "outputs": [
        {
          "output_type": "execute_result",
          "data": {
            "text/html": [
              "<div>\n",
              "<style scoped>\n",
              "    .dataframe tbody tr th:only-of-type {\n",
              "        vertical-align: middle;\n",
              "    }\n",
              "\n",
              "    .dataframe tbody tr th {\n",
              "        vertical-align: top;\n",
              "    }\n",
              "\n",
              "    .dataframe thead th {\n",
              "        text-align: right;\n",
              "    }\n",
              "</style>\n",
              "<table border=\"1\" class=\"dataframe\">\n",
              "  <thead>\n",
              "    <tr style=\"text-align: right;\">\n",
              "      <th></th>\n",
              "      <th>order_id</th>\n",
              "      <th>shop_id</th>\n",
              "      <th>user_id</th>\n",
              "      <th>order_amount</th>\n",
              "      <th>total_items</th>\n",
              "    </tr>\n",
              "  </thead>\n",
              "  <tbody>\n",
              "    <tr>\n",
              "      <th>count</th>\n",
              "      <td>5000.000000</td>\n",
              "      <td>5000.000000</td>\n",
              "      <td>5000.000000</td>\n",
              "      <td>5000.000000</td>\n",
              "      <td>5000.00000</td>\n",
              "    </tr>\n",
              "    <tr>\n",
              "      <th>mean</th>\n",
              "      <td>2500.500000</td>\n",
              "      <td>50.078800</td>\n",
              "      <td>849.092400</td>\n",
              "      <td>3145.128000</td>\n",
              "      <td>8.78720</td>\n",
              "    </tr>\n",
              "    <tr>\n",
              "      <th>std</th>\n",
              "      <td>1443.520003</td>\n",
              "      <td>29.006118</td>\n",
              "      <td>87.798982</td>\n",
              "      <td>41282.539349</td>\n",
              "      <td>116.32032</td>\n",
              "    </tr>\n",
              "    <tr>\n",
              "      <th>min</th>\n",
              "      <td>1.000000</td>\n",
              "      <td>1.000000</td>\n",
              "      <td>607.000000</td>\n",
              "      <td>90.000000</td>\n",
              "      <td>1.00000</td>\n",
              "    </tr>\n",
              "    <tr>\n",
              "      <th>25%</th>\n",
              "      <td>1250.750000</td>\n",
              "      <td>24.000000</td>\n",
              "      <td>775.000000</td>\n",
              "      <td>163.000000</td>\n",
              "      <td>1.00000</td>\n",
              "    </tr>\n",
              "    <tr>\n",
              "      <th>50%</th>\n",
              "      <td>2500.500000</td>\n",
              "      <td>50.000000</td>\n",
              "      <td>849.000000</td>\n",
              "      <td>284.000000</td>\n",
              "      <td>2.00000</td>\n",
              "    </tr>\n",
              "    <tr>\n",
              "      <th>75%</th>\n",
              "      <td>3750.250000</td>\n",
              "      <td>75.000000</td>\n",
              "      <td>925.000000</td>\n",
              "      <td>390.000000</td>\n",
              "      <td>3.00000</td>\n",
              "    </tr>\n",
              "    <tr>\n",
              "      <th>max</th>\n",
              "      <td>5000.000000</td>\n",
              "      <td>100.000000</td>\n",
              "      <td>999.000000</td>\n",
              "      <td>704000.000000</td>\n",
              "      <td>2000.00000</td>\n",
              "    </tr>\n",
              "  </tbody>\n",
              "</table>\n",
              "</div>"
            ],
            "text/plain": [
              "          order_id      shop_id      user_id   order_amount  total_items\n",
              "count  5000.000000  5000.000000  5000.000000    5000.000000   5000.00000\n",
              "mean   2500.500000    50.078800   849.092400    3145.128000      8.78720\n",
              "std    1443.520003    29.006118    87.798982   41282.539349    116.32032\n",
              "min       1.000000     1.000000   607.000000      90.000000      1.00000\n",
              "25%    1250.750000    24.000000   775.000000     163.000000      1.00000\n",
              "50%    2500.500000    50.000000   849.000000     284.000000      2.00000\n",
              "75%    3750.250000    75.000000   925.000000     390.000000      3.00000\n",
              "max    5000.000000   100.000000   999.000000  704000.000000   2000.00000"
            ]
          },
          "metadata": {
            "tags": []
          },
          "execution_count": 8
        }
      ]
    },
    {
      "cell_type": "markdown",
      "metadata": {
        "id": "k_5y3BaUBaZw",
        "colab_type": "text"
      },
      "source": [
        "We can see that mean of order_amount is 3145.128, which is indeed the calculation mentioned in the question.\n",
        "\n",
        "Also we can see that the standard deviation of 41282.54, which means on average, the values vary from mean by this amount.\n",
        "\n",
        "And also to mention that on comapring the medians of quartile ranges, mean and maximum value we can say that there are few outlier values that are increasing the mean value.\n",
        "\n",
        "Therefore, from above points we can come to conclusion that ***mean is not the correct way to represent the Average Order Value of this data***.\n",
        "\n"
      ]
    },
    {
      "cell_type": "markdown",
      "metadata": {
        "id": "Q7qsvL39FQn2",
        "colab_type": "text"
      },
      "source": [
        "##AOV(Average Order Value):\n",
        "**The formula for AOV for past 30 days** = \n",
        "\n",
        "(*Total order amount spent each time a customer places the order in past 30 days*)  /   (*Total number of orders placed in past 30 days*)"
      ]
    },
    {
      "cell_type": "markdown",
      "metadata": {
        "id": "JwRA_G0UG_Bn",
        "colab_type": "text"
      },
      "source": [
        "Check for missing values"
      ]
    },
    {
      "cell_type": "code",
      "metadata": {
        "id": "Y5BjR_8VBZKV",
        "colab_type": "code",
        "colab": {
          "base_uri": "https://localhost:8080/",
          "height": 360
        },
        "outputId": "212f9e8f-d8fd-430d-e175-4c7b271873ee"
      },
      "source": [
        "# Plot for Missing Values\n",
        "sns.heatmap(data.isnull(),yticklabels=False,cbar=False,cmap='viridis')"
      ],
      "execution_count": null,
      "outputs": [
        {
          "output_type": "execute_result",
          "data": {
            "text/plain": [
              "<matplotlib.axes._subplots.AxesSubplot at 0x7f51414334a8>"
            ]
          },
          "metadata": {
            "tags": []
          },
          "execution_count": 9
        },
        {
          "output_type": "display_data",
          "data": {
            "image/png": "[encoded data removed]",
            "text/plain": [
              "<Figure size 432x288 with 1 Axes>"
            ]
          },
          "metadata": {
            "tags": [],
            "needs_background": "light"
          }
        }
      ]
    },
    {
      "cell_type": "markdown",
      "metadata": {
        "id": "C7STQutZE4-j",
        "colab_type": "text"
      },
      "source": [
        "There is no missing value in the given dataset, therefore, there is no need to manage the missing values."
      ]
    },
    {
      "cell_type": "markdown",
      "metadata": {
        "id": "mm_LCn5QHOKb",
        "colab_type": "text"
      },
      "source": [
        "First, I will seperate year-month from timestamp as this will help to calculate the AOV per month"
      ]
    },
    {
      "cell_type": "code",
      "metadata": {
        "id": "1hh9Q5oDE28Z",
        "colab_type": "code",
        "colab": {
          "base_uri": "https://localhost:8080/",
          "height": 299
        },
        "outputId": "aa2098ae-13f3-4c39-d8ff-0aa05119ca80"
      },
      "source": [
        "# Seperating year-months from Timestamp \n",
        "\n",
        "data['created_month'] = data.created_at.str.split('-', n=2).str[:2].apply(lambda key: str(key[0]) + '-' + str(key[1]))\n",
        "data.head()"
      ],
      "execution_count": null,
      "outputs": [
        {
          "output_type": "execute_result",
          "data": {
            "text/html": [
              "<div>\n",
              "<style scoped>\n",
              "    .dataframe tbody tr th:only-of-type {\n",
              "        vertical-align: middle;\n",
              "    }\n",
              "\n",
              "    .dataframe tbody tr th {\n",
              "        vertical-align: top;\n",
              "    }\n",
              "\n",
              "    .dataframe thead th {\n",
              "        text-align: right;\n",
              "    }\n",
              "</style>\n",
              "<table border=\"1\" class=\"dataframe\">\n",
              "  <thead>\n",
              "    <tr style=\"text-align: right;\">\n",
              "      <th></th>\n",
              "      <th>order_id</th>\n",
              "      <th>shop_id</th>\n",
              "      <th>user_id</th>\n",
              "      <th>order_amount</th>\n",
              "      <th>total_items</th>\n",
              "      <th>payment_method</th>\n",
              "      <th>created_at</th>\n",
              "      <th>created_month</th>\n",
              "    </tr>\n",
              "  </thead>\n",
              "  <tbody>\n",
              "    <tr>\n",
              "      <th>0</th>\n",
              "      <td>1</td>\n",
              "      <td>53</td>\n",
              "      <td>746</td>\n",
              "      <td>224</td>\n",
              "      <td>2</td>\n",
              "      <td>cash</td>\n",
              "      <td>2017-03-13 12:36:56</td>\n",
              "      <td>2017-03</td>\n",
              "    </tr>\n",
              "    <tr>\n",
              "      <th>1</th>\n",
              "      <td>2</td>\n",
              "      <td>92</td>\n",
              "      <td>925</td>\n",
              "      <td>90</td>\n",
              "      <td>1</td>\n",
              "      <td>cash</td>\n",
              "      <td>2017-03-03 17:38:52</td>\n",
              "      <td>2017-03</td>\n",
              "    </tr>\n",
              "    <tr>\n",
              "      <th>2</th>\n",
              "      <td>3</td>\n",
              "      <td>44</td>\n",
              "      <td>861</td>\n",
              "      <td>144</td>\n",
              "      <td>1</td>\n",
              "      <td>cash</td>\n",
              "      <td>2017-03-14 4:23:56</td>\n",
              "      <td>2017-03</td>\n",
              "    </tr>\n",
              "    <tr>\n",
              "      <th>3</th>\n",
              "      <td>4</td>\n",
              "      <td>18</td>\n",
              "      <td>935</td>\n",
              "      <td>156</td>\n",
              "      <td>1</td>\n",
              "      <td>credit_card</td>\n",
              "      <td>2017-03-26 12:43:37</td>\n",
              "      <td>2017-03</td>\n",
              "    </tr>\n",
              "    <tr>\n",
              "      <th>4</th>\n",
              "      <td>5</td>\n",
              "      <td>18</td>\n",
              "      <td>883</td>\n",
              "      <td>156</td>\n",
              "      <td>1</td>\n",
              "      <td>credit_card</td>\n",
              "      <td>2017-03-01 4:35:11</td>\n",
              "      <td>2017-03</td>\n",
              "    </tr>\n",
              "  </tbody>\n",
              "</table>\n",
              "</div>"
            ],
            "text/plain": [
              "   order_id  shop_id  user_id  ...  payment_method           created_at created_month\n",
              "0         1       53      746  ...            cash  2017-03-13 12:36:56       2017-03\n",
              "1         2       92      925  ...            cash  2017-03-03 17:38:52       2017-03\n",
              "2         3       44      861  ...            cash   2017-03-14 4:23:56       2017-03\n",
              "3         4       18      935  ...     credit_card  2017-03-26 12:43:37       2017-03\n",
              "4         5       18      883  ...     credit_card   2017-03-01 4:35:11       2017-03\n",
              "\n",
              "[5 rows x 8 columns]"
            ]
          },
          "metadata": {
            "tags": []
          },
          "execution_count": 10
        }
      ]
    },
    {
      "cell_type": "code",
      "metadata": {
        "id": "PkHzudQKIBcW",
        "colab_type": "code",
        "colab": {
          "base_uri": "https://localhost:8080/",
          "height": 126
        },
        "outputId": "54fec4cb-815f-406a-9191-8f5848a4840b"
      },
      "source": [
        "# count of entries per month\n",
        "data.groupby('created_month').count()"
      ],
      "execution_count": null,
      "outputs": [
        {
          "output_type": "execute_result",
          "data": {
            "text/html": [
              "<div>\n",
              "<style scoped>\n",
              "    .dataframe tbody tr th:only-of-type {\n",
              "        vertical-align: middle;\n",
              "    }\n",
              "\n",
              "    .dataframe tbody tr th {\n",
              "        vertical-align: top;\n",
              "    }\n",
              "\n",
              "    .dataframe thead th {\n",
              "        text-align: right;\n",
              "    }\n",
              "</style>\n",
              "<table border=\"1\" class=\"dataframe\">\n",
              "  <thead>\n",
              "    <tr style=\"text-align: right;\">\n",
              "      <th></th>\n",
              "      <th>order_id</th>\n",
              "      <th>shop_id</th>\n",
              "      <th>user_id</th>\n",
              "      <th>order_amount</th>\n",
              "      <th>total_items</th>\n",
              "      <th>payment_method</th>\n",
              "      <th>created_at</th>\n",
              "    </tr>\n",
              "    <tr>\n",
              "      <th>created_month</th>\n",
              "      <th></th>\n",
              "      <th></th>\n",
              "      <th></th>\n",
              "      <th></th>\n",
              "      <th></th>\n",
              "      <th></th>\n",
              "      <th></th>\n",
              "    </tr>\n",
              "  </thead>\n",
              "  <tbody>\n",
              "    <tr>\n",
              "      <th>2017-03</th>\n",
              "      <td>5000</td>\n",
              "      <td>5000</td>\n",
              "      <td>5000</td>\n",
              "      <td>5000</td>\n",
              "      <td>5000</td>\n",
              "      <td>5000</td>\n",
              "      <td>5000</td>\n",
              "    </tr>\n",
              "  </tbody>\n",
              "</table>\n",
              "</div>"
            ],
            "text/plain": [
              "               order_id  shop_id  ...  payment_method  created_at\n",
              "created_month                     ...                            \n",
              "2017-03            5000     5000  ...            5000        5000\n",
              "\n",
              "[1 rows x 7 columns]"
            ]
          },
          "metadata": {
            "tags": []
          },
          "execution_count": 11
        }
      ]
    },
    {
      "cell_type": "markdown",
      "metadata": {
        "id": "4jkFMQm8IPqV",
        "colab_type": "text"
      },
      "source": [
        "As we can see that all the data/entries in the dataset is for 1 month.\n",
        "\n",
        "But to make this method to scaled up to any number of months, I will group data w.r.t created month and calculate AOV per month"
      ]
    },
    {
      "cell_type": "code",
      "metadata": {
        "id": "jIt371P0IJAu",
        "colab_type": "code",
        "colab": {
          "base_uri": "https://localhost:8080/",
          "height": 67
        },
        "outputId": "703d0ae4-f09b-4381-a27a-f7a10c59ca40"
      },
      "source": [
        "# total order amount given the month\n",
        "data.groupby('created_month').order_amount.agg(sum)"
      ],
      "execution_count": null,
      "outputs": [
        {
          "output_type": "execute_result",
          "data": {
            "text/plain": [
              "created_month\n",
              "2017-03    15725640\n",
              "Name: order_amount, dtype: int64"
            ]
          },
          "metadata": {
            "tags": []
          },
          "execution_count": 12
        }
      ]
    },
    {
      "cell_type": "code",
      "metadata": {
        "id": "55ujaeJAI1-u",
        "colab_type": "code",
        "colab": {
          "base_uri": "https://localhost:8080/",
          "height": 67
        },
        "outputId": "991c70ed-4157-4f0a-e075-571cbb5ed2b0"
      },
      "source": [
        "# total items sold per month\n",
        "data.groupby('created_month').total_items.agg(sum)"
      ],
      "execution_count": null,
      "outputs": [
        {
          "output_type": "execute_result",
          "data": {
            "text/plain": [
              "created_month\n",
              "2017-03    43936\n",
              "Name: total_items, dtype: int64"
            ]
          },
          "metadata": {
            "tags": []
          },
          "execution_count": 13
        }
      ]
    },
    {
      "cell_type": "markdown",
      "metadata": {
        "id": "QSDaXQ_QJuIz",
        "colab_type": "text"
      },
      "source": [
        "**Frequency of total_items per order**"
      ]
    },
    {
      "cell_type": "code",
      "metadata": {
        "id": "te9LuGtqJWOM",
        "colab_type": "code",
        "colab": {
          "base_uri": "https://localhost:8080/",
          "height": 280
        },
        "outputId": "627fbfb1-5495-4ab0-9505-1422849943c0"
      },
      "source": [
        "sns.countplot('total_items',data=data);"
      ],
      "execution_count": null,
      "outputs": [
        {
          "output_type": "display_data",
          "data": {
            "image/png": "[encoded data removed]",
            "text/plain": [
              "<Figure size 432x288 with 1 Axes>"
            ]
          },
          "metadata": {
            "tags": [],
            "needs_background": "light"
          }
        }
      ]
    },
    {
      "cell_type": "markdown",
      "metadata": {
        "id": "NfTQ2K5vI9GS",
        "colab_type": "text"
      },
      "source": [
        "## (A) Mistake done in calculation mentioned in the question:\n",
        "\n",
        " "
      ]
    },
    {
      "cell_type": "markdown",
      "metadata": {
        "id": "ohkkr6TuWWx_",
        "colab_type": "text"
      },
      "source": [
        "**In question we blindly took the total item per order as 1 (or we took the total item as the total number of entries in the dataset)**\n",
        "\n",
        "\n",
        "**But actually, we can notice from above count plot that total items per order is not 1 everytime, they are also sometimes 2, 3, 4, 5 etc. i.e.** ***we cannot take the total items blindly as 1***"
      ]
    },
    {
      "cell_type": "markdown",
      "metadata": {
        "id": "PSF50S-rK71X",
        "colab_type": "text"
      },
      "source": [
        "### Actual AOV:\n",
        "\n",
        "To calculate actual value of AOV per month we should divide total order amount per month by total items per month"
      ]
    },
    {
      "cell_type": "code",
      "metadata": {
        "id": "qE1iyW8uI3-e",
        "colab_type": "code",
        "colab": {
          "base_uri": "https://localhost:8080/",
          "height": 106
        },
        "outputId": "da01d9a6-7662-4093-f662-81fe25171611"
      },
      "source": [
        "Aov_per_month = pd.DataFrame(data.groupby('created_month').apply(lambda key: key['order_amount'].sum()/key['total_items'].sum()), columns=['AOV per month'])\n",
        "Aov_per_month"
      ],
      "execution_count": null,
      "outputs": [
        {
          "output_type": "execute_result",
          "data": {
            "text/html": [
              "<div>\n",
              "<style scoped>\n",
              "    .dataframe tbody tr th:only-of-type {\n",
              "        vertical-align: middle;\n",
              "    }\n",
              "\n",
              "    .dataframe tbody tr th {\n",
              "        vertical-align: top;\n",
              "    }\n",
              "\n",
              "    .dataframe thead th {\n",
              "        text-align: right;\n",
              "    }\n",
              "</style>\n",
              "<table border=\"1\" class=\"dataframe\">\n",
              "  <thead>\n",
              "    <tr style=\"text-align: right;\">\n",
              "      <th></th>\n",
              "      <th>AOV per month</th>\n",
              "    </tr>\n",
              "    <tr>\n",
              "      <th>created_month</th>\n",
              "      <th></th>\n",
              "    </tr>\n",
              "  </thead>\n",
              "  <tbody>\n",
              "    <tr>\n",
              "      <th>2017-03</th>\n",
              "      <td>357.921522</td>\n",
              "    </tr>\n",
              "  </tbody>\n",
              "</table>\n",
              "</div>"
            ],
            "text/plain": [
              "               AOV per month\n",
              "created_month               \n",
              "2017-03           357.921522"
            ]
          },
          "metadata": {
            "tags": []
          },
          "execution_count": 18
        }
      ]
    },
    {
      "cell_type": "markdown",
      "metadata": {
        "id": "nPZLa-QULbDI",
        "colab_type": "text"
      },
      "source": [
        "The above method is the actual value of AOV of the given 30 days "
      ]
    },
    {
      "cell_type": "markdown",
      "metadata": {
        "id": "t4x19goVMzj4",
        "colab_type": "text"
      },
      "source": [
        "##(B) What metric would you report for this dataset?"
      ]
    },
    {
      "cell_type": "code",
      "metadata": {
        "id": "nkk0AWU8MNSf",
        "colab_type": "code",
        "colab": {
          "base_uri": "https://localhost:8080/",
          "height": 283
        },
        "outputId": "c2c3309f-ac86-4c5c-d7d5-4dc420950994"
      },
      "source": [
        "data.boxplot(column='order_amount')"
      ],
      "execution_count": null,
      "outputs": [
        {
          "output_type": "execute_result",
          "data": {
            "text/plain": [
              "<matplotlib.axes._subplots.AxesSubplot at 0x7f513393fef0>"
            ]
          },
          "metadata": {
            "tags": []
          },
          "execution_count": 27
        },
        {
          "output_type": "display_data",
          "data": {
            "image/png": "[encoded data removed]",
            "text/plain": [
              "<Figure size 432x288 with 1 Axes>"
            ]
          },
          "metadata": {
            "tags": [],
            "needs_background": "light"
          }
        }
      ]
    },
    {
      "cell_type": "markdown",
      "metadata": {
        "id": "MtMYftz7P8fB",
        "colab_type": "text"
      },
      "source": [
        "As we can notice that entire box of the boxplot is along the line, this indicates that there is huge difference between the values of most of data points and the maximum value.\n",
        "\n",
        "Or we can say that dataset is skewed to the lower values"
      ]
    },
    {
      "cell_type": "markdown",
      "metadata": {
        "id": "y8evzf0XP-fL",
        "colab_type": "text"
      },
      "source": [
        "Therefore, it would be preferable to use that evaluation metric which is not affected by extreme values "
      ]
    },
    {
      "cell_type": "code",
      "metadata": {
        "id": "TqXFj13RP5S7",
        "colab_type": "code",
        "colab": {
          "base_uri": "https://localhost:8080/",
          "height": 67
        },
        "outputId": "a7bad7b2-2e31-4114-9e61-b5dcc27b39f4"
      },
      "source": [
        "print(\"first quartile: \", data.order_amount.quantile(q=0.25))\n",
        "print(\"second quartile (Median): \", data.order_amount.quantile(q=0.5))\n",
        "print(\"third quartile: \", data.order_amount.quantile(q=0.75))"
      ],
      "execution_count": null,
      "outputs": [
        {
          "output_type": "stream",
          "text": [
            "first quartile:  163.0\n",
            "second quartile (Median):  284.0\n",
            "third quartile:  390.0\n"
          ],
          "name": "stdout"
        }
      ]
    },
    {
      "cell_type": "markdown",
      "metadata": {
        "id": "QrSGcBj_TUEQ",
        "colab_type": "text"
      },
      "source": [
        "###Answer: \n",
        "And as we can notice that median is not affected much by the outliers, i.e median defines the dataset more accurately than mean, therefore, it would be more wise to use this as the evaluation metric\n",
        "\n",
        "####**Prefered Evaluation Metric: MEDIAN**\n",
        "\n",
        "Note: This would be better given that we are taking about single-transaction purchase of shoes\n",
        "\n",
        "***The method mentioned in (A) i.e finding AOV by the formula is most accurate no matter if the transaction is single or muliple transaction.***"
      ]
    },
    {
      "cell_type": "markdown",
      "metadata": {
        "id": "rhkDG7dNUVYC",
        "colab_type": "text"
      },
      "source": [
        "##(C) What is its value?\n",
        "\n"
      ]
    },
    {
      "cell_type": "markdown",
      "metadata": {
        "id": "LXtwbge3U3Pd",
        "colab_type": "text"
      },
      "source": [
        "###Answer:\n",
        "\n",
        "The median is 284, which is a more reasonable value for our measure of central tendancy than the mean (3145.13) given that we are talking about single-transaction purchases of shoes or else to measure AOV more accurately we can use the formula based method whoose value for given dataset is 357.92"
      ]
    },
    {
      "cell_type": "markdown",
      "metadata": {
        "id": "4v3XymSRXYaq",
        "colab_type": "text"
      },
      "source": [
        "# Question 2"
      ]
    },
    {
      "cell_type": "markdown",
      "metadata": {
        "id": "1mDxDT6qjIh2",
        "colab_type": "text"
      },
      "source": [
        "## (a)\n",
        "SELECT A.ShipperID, COUNT(*) AS \"Speedy Express Count\" \n",
        "\n",
        "FROM Orders A\n",
        "JOIN Shippers B ON A.ShipperID = B.ShipperID\n",
        "\n",
        "WHERE B.ShipperName = \"Speedy Express\""
      ]
    },
    {
      "cell_type": "markdown",
      "metadata": {
        "id": "cJCy4gdskDAH",
        "colab_type": "text"
      },
      "source": [
        "### Answer: \n",
        "ShipperID\tSpeedy | Express Count\n",
        "\n",
        "1 | 54"
      ]
    },
    {
      "cell_type": "markdown",
      "metadata": {
        "id": "f0hMyEz3jaNx",
        "colab_type": "text"
      },
      "source": [
        "## (b)\n",
        "\n",
        "SELECT EmployeeID, LastName, MAX(orderCount) AS \"MaxEmployeeOrder\" \n",
        "\n",
        "FROM (SELECT EmployeeID, COUNT(*) AS orderCount FROM Orders GROUP BY EmployeeID) NATURAL JOIN Employees\n",
        "\n"
      ]
    },
    {
      "cell_type": "markdown",
      "metadata": {
        "id": "IeqqubwtkZz5",
        "colab_type": "text"
      },
      "source": [
        "### Answer:\n",
        "\n",
        "EmployeeID |\tLastName\t| MaxEmployeeOrder\n",
        "\n",
        "4\t| Peacock |\t40\n"
      ]
    },
    {
      "cell_type": "markdown",
      "metadata": {
        "id": "LhqY5GnvjjCE",
        "colab_type": "text"
      },
      "source": [
        "## (c)\n",
        "SELECT ProductName, ProductID, MAX(ProductCount) AS \"MaxProductCount\"\n",
        "\n",
        "FROM (SELECT ProductName, ProductID, COUNT(*) AS ProductCount\n",
        "\n",
        "FROM Customers NATURAL JOIN Orders NATURAL JOIN OrderDetails NATURAL JOIN Products\n",
        "\n",
        "WHERE Country == \"Germany\"\n",
        "\n",
        "GROUP BY ProductID)"
      ]
    },
    {
      "cell_type": "markdown",
      "metadata": {
        "id": "7xhmRhE-klzQ",
        "colab_type": "text"
      },
      "source": [
        "### Answer:\n",
        "\n",
        "ProductName |\tProductID |\tMaxProductCount\n",
        "\n",
        "Gorgonzola Telino |\t31 |\t5"
      ]
    },
    {
      "cell_type": "code",
      "metadata": {
        "id": "HZMvUMYYjXgT",
        "colab_type": "code",
        "colab": {}
      },
      "source": [
        ""
      ],
      "execution_count": null,
      "outputs": []
    },
    {
      "cell_type": "markdown",
      "metadata": {
        "id": "LzLQTmw8lE_H",
        "colab_type": "text"
      },
      "source": [
        "# MetaData Analysis (Extra)"
      ]
    },
    {
      "cell_type": "code",
      "metadata": {
        "id": "bnput74Vk_Wt",
        "colab_type": "code",
        "colab": {
          "base_uri": "https://localhost:8080/",
          "height": 281
        },
        "outputId": "2762539c-9bfd-4760-8c81-4e592bbb579b"
      },
      "source": [
        "sns.countplot('payment_method',data=data);"
      ],
      "execution_count": 33,
      "outputs": [
        {
          "output_type": "display_data",
          "data": {
            "image/png": "[encoded data removed]",
            "text/plain": [
              "<Figure size 432x288 with 1 Axes>"
            ]
          },
          "metadata": {
            "tags": [],
            "needs_background": "light"
          }
        }
      ]
    },
    {
      "cell_type": "markdown",
      "metadata": {
        "id": "7zQkgvM8lOhB",
        "colab_type": "text"
      },
      "source": [
        "## Shop data Analysis"
      ]
    },
    {
      "cell_type": "code",
      "metadata": {
        "id": "ssyG6PGslKaN",
        "colab_type": "code",
        "colab": {
          "base_uri": "https://localhost:8080/",
          "height": 291
        },
        "outputId": "f2755106-ae79-4084-a5a6-ed62d93ab42c"
      },
      "source": [
        "data.groupby('shop_id').apply(lambda key: sum(key.order_amount)).plot();"
      ],
      "execution_count": 34,
      "outputs": [
        {
          "output_type": "display_data",
          "data": {
            "image/png": "[encoded data removed]",
            "text/plain": [
              "<Figure size 432x288 with 1 Axes>"
            ]
          },
          "metadata": {
            "tags": [],
            "needs_background": "light"
          }
        }
      ]
    },
    {
      "cell_type": "code",
      "metadata": {
        "id": "UVT3Zk7dlVsD",
        "colab_type": "code",
        "colab": {
          "base_uri": "https://localhost:8080/",
          "height": 254
        },
        "outputId": "2d95141a-7ec2-49b1-a01a-fe0e5432c155"
      },
      "source": [
        "shop_Data = data.groupby(['shop_id']).agg({'order_amount' : [sum, len, np.median, np.mean]}).rename(columns={'order_amount': 'order amount data'})\n",
        "shop_Data.head()"
      ],
      "execution_count": 35,
      "outputs": [
        {
          "output_type": "execute_result",
          "data": {
            "text/html": [
              "<div>\n",
              "<style scoped>\n",
              "    .dataframe tbody tr th:only-of-type {\n",
              "        vertical-align: middle;\n",
              "    }\n",
              "\n",
              "    .dataframe tbody tr th {\n",
              "        vertical-align: top;\n",
              "    }\n",
              "\n",
              "    .dataframe thead tr th {\n",
              "        text-align: left;\n",
              "    }\n",
              "\n",
              "    .dataframe thead tr:last-of-type th {\n",
              "        text-align: right;\n",
              "    }\n",
              "</style>\n",
              "<table border=\"1\" class=\"dataframe\">\n",
              "  <thead>\n",
              "    <tr>\n",
              "      <th></th>\n",
              "      <th colspan=\"4\" halign=\"left\">order amount data</th>\n",
              "    </tr>\n",
              "    <tr>\n",
              "      <th></th>\n",
              "      <th>sum</th>\n",
              "      <th>len</th>\n",
              "      <th>median</th>\n",
              "      <th>mean</th>\n",
              "    </tr>\n",
              "    <tr>\n",
              "      <th>shop_id</th>\n",
              "      <th></th>\n",
              "      <th></th>\n",
              "      <th></th>\n",
              "      <th></th>\n",
              "    </tr>\n",
              "  </thead>\n",
              "  <tbody>\n",
              "    <tr>\n",
              "      <th>1</th>\n",
              "      <td>13588</td>\n",
              "      <td>44</td>\n",
              "      <td>316</td>\n",
              "      <td>308.818182</td>\n",
              "    </tr>\n",
              "    <tr>\n",
              "      <th>2</th>\n",
              "      <td>9588</td>\n",
              "      <td>55</td>\n",
              "      <td>188</td>\n",
              "      <td>174.327273</td>\n",
              "    </tr>\n",
              "    <tr>\n",
              "      <th>3</th>\n",
              "      <td>14652</td>\n",
              "      <td>48</td>\n",
              "      <td>296</td>\n",
              "      <td>305.250000</td>\n",
              "    </tr>\n",
              "    <tr>\n",
              "      <th>4</th>\n",
              "      <td>13184</td>\n",
              "      <td>51</td>\n",
              "      <td>256</td>\n",
              "      <td>258.509804</td>\n",
              "    </tr>\n",
              "    <tr>\n",
              "      <th>5</th>\n",
              "      <td>13064</td>\n",
              "      <td>45</td>\n",
              "      <td>284</td>\n",
              "      <td>290.311111</td>\n",
              "    </tr>\n",
              "  </tbody>\n",
              "</table>\n",
              "</div>"
            ],
            "text/plain": [
              "        order amount data                       \n",
              "                      sum len median        mean\n",
              "shop_id                                         \n",
              "1                   13588  44    316  308.818182\n",
              "2                    9588  55    188  174.327273\n",
              "3                   14652  48    296  305.250000\n",
              "4                   13184  51    256  258.509804\n",
              "5                   13064  45    284  290.311111"
            ]
          },
          "metadata": {
            "tags": []
          },
          "execution_count": 35
        }
      ]
    },
    {
      "cell_type": "code",
      "metadata": {
        "id": "tB8n5hSrlYYi",
        "colab_type": "code",
        "colab": {
          "base_uri": "https://localhost:8080/",
          "height": 302
        },
        "outputId": "6ea9ef8e-78b9-4522-94ee-64fad0079053"
      },
      "source": [
        "print(\"Shop with maximum order amount:\\n\\n\")\n",
        "\n",
        "print(shop_Data[shop_Data.index == shop_Data[\"order amount data\"][\"sum\"].idxmax()])\n",
        "\n",
        "\n",
        "print(\"\\n\\n\\nShop with minimun order amount:\\n\\n\")\n",
        "\n",
        "print(shop_Data[shop_Data.index == shop_Data[\"order amount data\"][\"sum\"].idxmin()])"
      ],
      "execution_count": 36,
      "outputs": [
        {
          "output_type": "stream",
          "text": [
            "Shop with maximum order amount:\n",
            "\n",
            "\n",
            "        order amount data                          \n",
            "                      sum len median           mean\n",
            "shop_id                                            \n",
            "42               11990176  51    704  235101.490196\n",
            "\n",
            "\n",
            "\n",
            "Shop with minimun order amount:\n",
            "\n",
            "\n",
            "        order amount data                       \n",
            "                      sum len median        mean\n",
            "shop_id                                         \n",
            "92                   6840  42    180  162.857143\n"
          ],
          "name": "stdout"
        }
      ]
    },
    {
      "cell_type": "code",
      "metadata": {
        "id": "X2Qm-JU1laKy",
        "colab_type": "code",
        "colab": {
          "base_uri": "https://localhost:8080/",
          "height": 302
        },
        "outputId": "568111d7-6878-4822-c49c-cc9cfe145a68"
      },
      "source": [
        "print(\"Shop with maximum number of orders:\\n\\n\")\n",
        "\n",
        "print(shop_Data[shop_Data.index == shop_Data[\"order amount data\"][\"len\"].idxmax()])\n",
        "\n",
        "print(\"\\n\\n\\nShop with minimun number of orders:\\n\\n\")\n",
        "\n",
        "print(shop_Data[shop_Data.index == shop_Data[\"order amount data\"][\"len\"].idxmin()])"
      ],
      "execution_count": 37,
      "outputs": [
        {
          "output_type": "stream",
          "text": [
            "Shop with maximum number of orders:\n",
            "\n",
            "\n",
            "        order amount data                       \n",
            "                      sum len median        mean\n",
            "shop_id                                         \n",
            "53                  14560  68    224  214.117647\n",
            "\n",
            "\n",
            "\n",
            "Shop with minimun number of orders:\n",
            "\n",
            "\n",
            "        order amount data                       \n",
            "                      sum len median        mean\n",
            "shop_id                                         \n",
            "38                  13680  35    380  390.857143\n"
          ],
          "name": "stdout"
        }
      ]
    },
    {
      "cell_type": "markdown",
      "metadata": {
        "id": "902pHl6glfLt",
        "colab_type": "text"
      },
      "source": [
        "## User data analysis:"
      ]
    },
    {
      "cell_type": "code",
      "metadata": {
        "id": "asUv-xyWlcfL",
        "colab_type": "code",
        "colab": {
          "base_uri": "https://localhost:8080/",
          "height": 34
        },
        "outputId": "cfd2fb95-6ae4-44ac-bea0-0fcba43b9a8c"
      },
      "source": [
        "user_data = data.groupby(\"user_id\").agg({'shop_id': [max, len], 'payment_method': [max]}).rename(columns={'shop_id': 'shop data', 'payment_method': 'payment data'})\n",
        "user_data.shape"
      ],
      "execution_count": 38,
      "outputs": [
        {
          "output_type": "execute_result",
          "data": {
            "text/plain": [
              "(301, 3)"
            ]
          },
          "metadata": {
            "tags": []
          },
          "execution_count": 38
        }
      ]
    },
    {
      "cell_type": "code",
      "metadata": {
        "id": "kaAcfRajljkD",
        "colab_type": "code",
        "colab": {
          "base_uri": "https://localhost:8080/",
          "height": 254
        },
        "outputId": "5edef990-7559-42e5-e4c0-ee65530b745f"
      },
      "source": [
        "user_data.head()"
      ],
      "execution_count": 39,
      "outputs": [
        {
          "output_type": "execute_result",
          "data": {
            "text/html": [
              "<div>\n",
              "<style scoped>\n",
              "    .dataframe tbody tr th:only-of-type {\n",
              "        vertical-align: middle;\n",
              "    }\n",
              "\n",
              "    .dataframe tbody tr th {\n",
              "        vertical-align: top;\n",
              "    }\n",
              "\n",
              "    .dataframe thead tr th {\n",
              "        text-align: left;\n",
              "    }\n",
              "\n",
              "    .dataframe thead tr:last-of-type th {\n",
              "        text-align: right;\n",
              "    }\n",
              "</style>\n",
              "<table border=\"1\" class=\"dataframe\">\n",
              "  <thead>\n",
              "    <tr>\n",
              "      <th></th>\n",
              "      <th colspan=\"2\" halign=\"left\">shop data</th>\n",
              "      <th>payment data</th>\n",
              "    </tr>\n",
              "    <tr>\n",
              "      <th></th>\n",
              "      <th>max</th>\n",
              "      <th>len</th>\n",
              "      <th>max</th>\n",
              "    </tr>\n",
              "    <tr>\n",
              "      <th>user_id</th>\n",
              "      <th></th>\n",
              "      <th></th>\n",
              "      <th></th>\n",
              "    </tr>\n",
              "  </thead>\n",
              "  <tbody>\n",
              "    <tr>\n",
              "      <th>607</th>\n",
              "      <td>42</td>\n",
              "      <td>17</td>\n",
              "      <td>credit_card</td>\n",
              "    </tr>\n",
              "    <tr>\n",
              "      <th>700</th>\n",
              "      <td>95</td>\n",
              "      <td>16</td>\n",
              "      <td>debit</td>\n",
              "    </tr>\n",
              "    <tr>\n",
              "      <th>701</th>\n",
              "      <td>100</td>\n",
              "      <td>13</td>\n",
              "      <td>debit</td>\n",
              "    </tr>\n",
              "    <tr>\n",
              "      <th>702</th>\n",
              "      <td>96</td>\n",
              "      <td>13</td>\n",
              "      <td>debit</td>\n",
              "    </tr>\n",
              "    <tr>\n",
              "      <th>703</th>\n",
              "      <td>95</td>\n",
              "      <td>16</td>\n",
              "      <td>debit</td>\n",
              "    </tr>\n",
              "  </tbody>\n",
              "</table>\n",
              "</div>"
            ],
            "text/plain": [
              "        shop data     payment data\n",
              "              max len          max\n",
              "user_id                           \n",
              "607            42  17  credit_card\n",
              "700            95  16        debit\n",
              "701           100  13        debit\n",
              "702            96  13        debit\n",
              "703            95  16        debit"
            ]
          },
          "metadata": {
            "tags": []
          },
          "execution_count": 39
        }
      ]
    },
    {
      "cell_type": "code",
      "metadata": {
        "id": "ctZGaT-zllUr",
        "colab_type": "code",
        "colab": {
          "base_uri": "https://localhost:8080/",
          "height": 302
        },
        "outputId": "93c9c797-0480-40ea-ca7c-56b694f9736f"
      },
      "source": [
        "print(\"User with maximum number of orders:\\n\\n\")\n",
        "\n",
        "print(user_data[user_data.index == user_data[\"shop data\"][\"len\"].idxmax()])\n",
        "\n",
        "print(\"\\n\\n\\nUser with minimun number of orders:\\n\\n\")\n",
        "\n",
        "print(user_data[user_data.index == user_data[\"shop data\"][\"len\"].idxmin()])"
      ],
      "execution_count": 40,
      "outputs": [
        {
          "output_type": "stream",
          "text": [
            "User with maximum number of orders:\n",
            "\n",
            "\n",
            "        shop data     payment data\n",
            "              max len          max\n",
            "user_id                           \n",
            "718            97  28        debit\n",
            "\n",
            "\n",
            "\n",
            "User with minimun number of orders:\n",
            "\n",
            "\n",
            "        shop data     payment data\n",
            "              max len          max\n",
            "user_id                           \n",
            "717            83   7        debit\n"
          ],
          "name": "stdout"
        }
      ]
    },
    {
      "cell_type": "markdown",
      "metadata": {
        "id": "meK68XBpmZQJ",
        "colab_type": "text"
      },
      "source": [
        "## Order Amount"
      ]
    },
    {
      "cell_type": "code",
      "metadata": {
        "id": "qZRXfh_jmd6h",
        "colab_type": "code",
        "colab": {
          "base_uri": "https://localhost:8080/",
          "height": 393
        },
        "outputId": "8bcead5e-9b23-45d1-f8f6-3213bd65a701"
      },
      "source": [
        "data.groupby('order_amount').count().sort_values(by='order_amount', ascending=False).head(10)"
      ],
      "execution_count": 44,
      "outputs": [
        {
          "output_type": "execute_result",
          "data": {
            "text/html": [
              "<div>\n",
              "<style scoped>\n",
              "    .dataframe tbody tr th:only-of-type {\n",
              "        vertical-align: middle;\n",
              "    }\n",
              "\n",
              "    .dataframe tbody tr th {\n",
              "        vertical-align: top;\n",
              "    }\n",
              "\n",
              "    .dataframe thead th {\n",
              "        text-align: right;\n",
              "    }\n",
              "</style>\n",
              "<table border=\"1\" class=\"dataframe\">\n",
              "  <thead>\n",
              "    <tr style=\"text-align: right;\">\n",
              "      <th></th>\n",
              "      <th>order_id</th>\n",
              "      <th>shop_id</th>\n",
              "      <th>user_id</th>\n",
              "      <th>total_items</th>\n",
              "      <th>payment_method</th>\n",
              "      <th>created_at</th>\n",
              "      <th>created_month</th>\n",
              "      <th>created_date</th>\n",
              "    </tr>\n",
              "    <tr>\n",
              "      <th>order_amount</th>\n",
              "      <th></th>\n",
              "      <th></th>\n",
              "      <th></th>\n",
              "      <th></th>\n",
              "      <th></th>\n",
              "      <th></th>\n",
              "      <th></th>\n",
              "      <th></th>\n",
              "    </tr>\n",
              "  </thead>\n",
              "  <tbody>\n",
              "    <tr>\n",
              "      <th>704000</th>\n",
              "      <td>17</td>\n",
              "      <td>17</td>\n",
              "      <td>17</td>\n",
              "      <td>17</td>\n",
              "      <td>17</td>\n",
              "      <td>17</td>\n",
              "      <td>17</td>\n",
              "      <td>17</td>\n",
              "    </tr>\n",
              "    <tr>\n",
              "      <th>154350</th>\n",
              "      <td>1</td>\n",
              "      <td>1</td>\n",
              "      <td>1</td>\n",
              "      <td>1</td>\n",
              "      <td>1</td>\n",
              "      <td>1</td>\n",
              "      <td>1</td>\n",
              "      <td>1</td>\n",
              "    </tr>\n",
              "    <tr>\n",
              "      <th>102900</th>\n",
              "      <td>1</td>\n",
              "      <td>1</td>\n",
              "      <td>1</td>\n",
              "      <td>1</td>\n",
              "      <td>1</td>\n",
              "      <td>1</td>\n",
              "      <td>1</td>\n",
              "      <td>1</td>\n",
              "    </tr>\n",
              "    <tr>\n",
              "      <th>77175</th>\n",
              "      <td>9</td>\n",
              "      <td>9</td>\n",
              "      <td>9</td>\n",
              "      <td>9</td>\n",
              "      <td>9</td>\n",
              "      <td>9</td>\n",
              "      <td>9</td>\n",
              "      <td>9</td>\n",
              "    </tr>\n",
              "    <tr>\n",
              "      <th>51450</th>\n",
              "      <td>16</td>\n",
              "      <td>16</td>\n",
              "      <td>16</td>\n",
              "      <td>16</td>\n",
              "      <td>16</td>\n",
              "      <td>16</td>\n",
              "      <td>16</td>\n",
              "      <td>16</td>\n",
              "    </tr>\n",
              "    <tr>\n",
              "      <th>25725</th>\n",
              "      <td>19</td>\n",
              "      <td>19</td>\n",
              "      <td>19</td>\n",
              "      <td>19</td>\n",
              "      <td>19</td>\n",
              "      <td>19</td>\n",
              "      <td>19</td>\n",
              "      <td>19</td>\n",
              "    </tr>\n",
              "    <tr>\n",
              "      <th>1760</th>\n",
              "      <td>1</td>\n",
              "      <td>1</td>\n",
              "      <td>1</td>\n",
              "      <td>1</td>\n",
              "      <td>1</td>\n",
              "      <td>1</td>\n",
              "      <td>1</td>\n",
              "      <td>1</td>\n",
              "    </tr>\n",
              "    <tr>\n",
              "      <th>1408</th>\n",
              "      <td>2</td>\n",
              "      <td>2</td>\n",
              "      <td>2</td>\n",
              "      <td>2</td>\n",
              "      <td>2</td>\n",
              "      <td>2</td>\n",
              "      <td>2</td>\n",
              "      <td>2</td>\n",
              "    </tr>\n",
              "    <tr>\n",
              "      <th>1086</th>\n",
              "      <td>1</td>\n",
              "      <td>1</td>\n",
              "      <td>1</td>\n",
              "      <td>1</td>\n",
              "      <td>1</td>\n",
              "      <td>1</td>\n",
              "      <td>1</td>\n",
              "      <td>1</td>\n",
              "    </tr>\n",
              "    <tr>\n",
              "      <th>1064</th>\n",
              "      <td>1</td>\n",
              "      <td>1</td>\n",
              "      <td>1</td>\n",
              "      <td>1</td>\n",
              "      <td>1</td>\n",
              "      <td>1</td>\n",
              "      <td>1</td>\n",
              "      <td>1</td>\n",
              "    </tr>\n",
              "  </tbody>\n",
              "</table>\n",
              "</div>"
            ],
            "text/plain": [
              "              order_id  shop_id  ...  created_month  created_date\n",
              "order_amount                     ...                             \n",
              "704000              17       17  ...             17            17\n",
              "154350               1        1  ...              1             1\n",
              "102900               1        1  ...              1             1\n",
              "77175                9        9  ...              9             9\n",
              "51450               16       16  ...             16            16\n",
              "25725               19       19  ...             19            19\n",
              "1760                 1        1  ...              1             1\n",
              "1408                 2        2  ...              2             2\n",
              "1086                 1        1  ...              1             1\n",
              "1064                 1        1  ...              1             1\n",
              "\n",
              "[10 rows x 8 columns]"
            ]
          },
          "metadata": {
            "tags": []
          },
          "execution_count": 44
        }
      ]
    },
    {
      "cell_type": "markdown",
      "metadata": {
        "id": "oGIAHVWWmk5M",
        "colab_type": "text"
      },
      "source": [
        "One thing we can notice from above dataframe is that there is frequent number of orders of the items which are of very high order amount as compared to other. "
      ]
    },
    {
      "cell_type": "code",
      "metadata": {
        "id": "58EtrvTDmsMm",
        "colab_type": "code",
        "colab": {
          "base_uri": "https://localhost:8080/",
          "height": 1000
        },
        "outputId": "21b9e4cd-1ffc-42f2-80de-1338e4fc83c3"
      },
      "source": [
        "data.loc[data['order_amount'].isin([704000, 51450, 25725])].sort_values(by='order_amount', ascending=False)\n"
      ],
      "execution_count": 45,
      "outputs": [
        {
          "output_type": "execute_result",
          "data": {
            "text/html": [
              "<div>\n",
              "<style scoped>\n",
              "    .dataframe tbody tr th:only-of-type {\n",
              "        vertical-align: middle;\n",
              "    }\n",
              "\n",
              "    .dataframe tbody tr th {\n",
              "        vertical-align: top;\n",
              "    }\n",
              "\n",
              "    .dataframe thead th {\n",
              "        text-align: right;\n",
              "    }\n",
              "</style>\n",
              "<table border=\"1\" class=\"dataframe\">\n",
              "  <thead>\n",
              "    <tr style=\"text-align: right;\">\n",
              "      <th></th>\n",
              "      <th>order_id</th>\n",
              "      <th>shop_id</th>\n",
              "      <th>user_id</th>\n",
              "      <th>order_amount</th>\n",
              "      <th>total_items</th>\n",
              "      <th>payment_method</th>\n",
              "      <th>created_at</th>\n",
              "      <th>created_month</th>\n",
              "      <th>created_date</th>\n",
              "    </tr>\n",
              "  </thead>\n",
              "  <tbody>\n",
              "    <tr>\n",
              "      <th>15</th>\n",
              "      <td>16</td>\n",
              "      <td>42</td>\n",
              "      <td>607</td>\n",
              "      <td>704000</td>\n",
              "      <td>2000</td>\n",
              "      <td>credit_card</td>\n",
              "      <td>2017-03-07 4:00:00</td>\n",
              "      <td>2017-03</td>\n",
              "      <td>2017-03-07</td>\n",
              "    </tr>\n",
              "    <tr>\n",
              "      <th>1362</th>\n",
              "      <td>1363</td>\n",
              "      <td>42</td>\n",
              "      <td>607</td>\n",
              "      <td>704000</td>\n",
              "      <td>2000</td>\n",
              "      <td>credit_card</td>\n",
              "      <td>2017-03-15 4:00:00</td>\n",
              "      <td>2017-03</td>\n",
              "      <td>2017-03-15</td>\n",
              "    </tr>\n",
              "    <tr>\n",
              "      <th>2969</th>\n",
              "      <td>2970</td>\n",
              "      <td>42</td>\n",
              "      <td>607</td>\n",
              "      <td>704000</td>\n",
              "      <td>2000</td>\n",
              "      <td>credit_card</td>\n",
              "      <td>2017-03-28 4:00:00</td>\n",
              "      <td>2017-03</td>\n",
              "      <td>2017-03-28</td>\n",
              "    </tr>\n",
              "    <tr>\n",
              "      <th>2835</th>\n",
              "      <td>2836</td>\n",
              "      <td>42</td>\n",
              "      <td>607</td>\n",
              "      <td>704000</td>\n",
              "      <td>2000</td>\n",
              "      <td>credit_card</td>\n",
              "      <td>2017-03-28 4:00:00</td>\n",
              "      <td>2017-03</td>\n",
              "      <td>2017-03-28</td>\n",
              "    </tr>\n",
              "    <tr>\n",
              "      <th>4056</th>\n",
              "      <td>4057</td>\n",
              "      <td>42</td>\n",
              "      <td>607</td>\n",
              "      <td>704000</td>\n",
              "      <td>2000</td>\n",
              "      <td>credit_card</td>\n",
              "      <td>2017-03-28 4:00:00</td>\n",
              "      <td>2017-03</td>\n",
              "      <td>2017-03-28</td>\n",
              "    </tr>\n",
              "    <tr>\n",
              "      <th>60</th>\n",
              "      <td>61</td>\n",
              "      <td>42</td>\n",
              "      <td>607</td>\n",
              "      <td>704000</td>\n",
              "      <td>2000</td>\n",
              "      <td>credit_card</td>\n",
              "      <td>2017-03-04 4:00:00</td>\n",
              "      <td>2017-03</td>\n",
              "      <td>2017-03-04</td>\n",
              "    </tr>\n",
              "    <tr>\n",
              "      <th>2297</th>\n",
              "      <td>2298</td>\n",
              "      <td>42</td>\n",
              "      <td>607</td>\n",
              "      <td>704000</td>\n",
              "      <td>2000</td>\n",
              "      <td>credit_card</td>\n",
              "      <td>2017-03-07 4:00:00</td>\n",
              "      <td>2017-03</td>\n",
              "      <td>2017-03-07</td>\n",
              "    </tr>\n",
              "    <tr>\n",
              "      <th>2153</th>\n",
              "      <td>2154</td>\n",
              "      <td>42</td>\n",
              "      <td>607</td>\n",
              "      <td>704000</td>\n",
              "      <td>2000</td>\n",
              "      <td>credit_card</td>\n",
              "      <td>2017-03-12 4:00:00</td>\n",
              "      <td>2017-03</td>\n",
              "      <td>2017-03-12</td>\n",
              "    </tr>\n",
              "    <tr>\n",
              "      <th>1562</th>\n",
              "      <td>1563</td>\n",
              "      <td>42</td>\n",
              "      <td>607</td>\n",
              "      <td>704000</td>\n",
              "      <td>2000</td>\n",
              "      <td>credit_card</td>\n",
              "      <td>2017-03-19 4:00:00</td>\n",
              "      <td>2017-03</td>\n",
              "      <td>2017-03-19</td>\n",
              "    </tr>\n",
              "    <tr>\n",
              "      <th>1436</th>\n",
              "      <td>1437</td>\n",
              "      <td>42</td>\n",
              "      <td>607</td>\n",
              "      <td>704000</td>\n",
              "      <td>2000</td>\n",
              "      <td>credit_card</td>\n",
              "      <td>2017-03-11 4:00:00</td>\n",
              "      <td>2017-03</td>\n",
              "      <td>2017-03-11</td>\n",
              "    </tr>\n",
              "    <tr>\n",
              "      <th>1602</th>\n",
              "      <td>1603</td>\n",
              "      <td>42</td>\n",
              "      <td>607</td>\n",
              "      <td>704000</td>\n",
              "      <td>2000</td>\n",
              "      <td>credit_card</td>\n",
              "      <td>2017-03-17 4:00:00</td>\n",
              "      <td>2017-03</td>\n",
              "      <td>2017-03-17</td>\n",
              "    </tr>\n",
              "    <tr>\n",
              "      <th>3332</th>\n",
              "      <td>3333</td>\n",
              "      <td>42</td>\n",
              "      <td>607</td>\n",
              "      <td>704000</td>\n",
              "      <td>2000</td>\n",
              "      <td>credit_card</td>\n",
              "      <td>2017-03-24 4:00:00</td>\n",
              "      <td>2017-03</td>\n",
              "      <td>2017-03-24</td>\n",
              "    </tr>\n",
              "    <tr>\n",
              "      <th>1104</th>\n",
              "      <td>1105</td>\n",
              "      <td>42</td>\n",
              "      <td>607</td>\n",
              "      <td>704000</td>\n",
              "      <td>2000</td>\n",
              "      <td>credit_card</td>\n",
              "      <td>2017-03-24 4:00:00</td>\n",
              "      <td>2017-03</td>\n",
              "      <td>2017-03-24</td>\n",
              "    </tr>\n",
              "    <tr>\n",
              "      <th>4882</th>\n",
              "      <td>4883</td>\n",
              "      <td>42</td>\n",
              "      <td>607</td>\n",
              "      <td>704000</td>\n",
              "      <td>2000</td>\n",
              "      <td>credit_card</td>\n",
              "      <td>2017-03-25 4:00:00</td>\n",
              "      <td>2017-03</td>\n",
              "      <td>2017-03-25</td>\n",
              "    </tr>\n",
              "    <tr>\n",
              "      <th>4868</th>\n",
              "      <td>4869</td>\n",
              "      <td>42</td>\n",
              "      <td>607</td>\n",
              "      <td>704000</td>\n",
              "      <td>2000</td>\n",
              "      <td>credit_card</td>\n",
              "      <td>2017-03-22 4:00:00</td>\n",
              "      <td>2017-03</td>\n",
              "      <td>2017-03-22</td>\n",
              "    </tr>\n",
              "    <tr>\n",
              "      <th>520</th>\n",
              "      <td>521</td>\n",
              "      <td>42</td>\n",
              "      <td>607</td>\n",
              "      <td>704000</td>\n",
              "      <td>2000</td>\n",
              "      <td>credit_card</td>\n",
              "      <td>2017-03-02 4:00:00</td>\n",
              "      <td>2017-03</td>\n",
              "      <td>2017-03-02</td>\n",
              "    </tr>\n",
              "    <tr>\n",
              "      <th>4646</th>\n",
              "      <td>4647</td>\n",
              "      <td>42</td>\n",
              "      <td>607</td>\n",
              "      <td>704000</td>\n",
              "      <td>2000</td>\n",
              "      <td>credit_card</td>\n",
              "      <td>2017-03-02 4:00:00</td>\n",
              "      <td>2017-03</td>\n",
              "      <td>2017-03-02</td>\n",
              "    </tr>\n",
              "    <tr>\n",
              "      <th>511</th>\n",
              "      <td>512</td>\n",
              "      <td>78</td>\n",
              "      <td>967</td>\n",
              "      <td>51450</td>\n",
              "      <td>2</td>\n",
              "      <td>cash</td>\n",
              "      <td>2017-03-09 7:23:14</td>\n",
              "      <td>2017-03</td>\n",
              "      <td>2017-03-09</td>\n",
              "    </tr>\n",
              "    <tr>\n",
              "      <th>3167</th>\n",
              "      <td>3168</td>\n",
              "      <td>78</td>\n",
              "      <td>927</td>\n",
              "      <td>51450</td>\n",
              "      <td>2</td>\n",
              "      <td>cash</td>\n",
              "      <td>2017-03-12 12:23:08</td>\n",
              "      <td>2017-03</td>\n",
              "      <td>2017-03-12</td>\n",
              "    </tr>\n",
              "    <tr>\n",
              "      <th>3705</th>\n",
              "      <td>3706</td>\n",
              "      <td>78</td>\n",
              "      <td>828</td>\n",
              "      <td>51450</td>\n",
              "      <td>2</td>\n",
              "      <td>credit_card</td>\n",
              "      <td>2017-03-14 20:43:15</td>\n",
              "      <td>2017-03</td>\n",
              "      <td>2017-03-14</td>\n",
              "    </tr>\n",
              "    <tr>\n",
              "      <th>3101</th>\n",
              "      <td>3102</td>\n",
              "      <td>78</td>\n",
              "      <td>855</td>\n",
              "      <td>51450</td>\n",
              "      <td>2</td>\n",
              "      <td>credit_card</td>\n",
              "      <td>2017-03-21 5:10:34</td>\n",
              "      <td>2017-03</td>\n",
              "      <td>2017-03-21</td>\n",
              "    </tr>\n",
              "    <tr>\n",
              "      <th>490</th>\n",
              "      <td>491</td>\n",
              "      <td>78</td>\n",
              "      <td>936</td>\n",
              "      <td>51450</td>\n",
              "      <td>2</td>\n",
              "      <td>debit</td>\n",
              "      <td>2017-03-26 17:08:19</td>\n",
              "      <td>2017-03</td>\n",
              "      <td>2017-03-26</td>\n",
              "    </tr>\n",
              "    <tr>\n",
              "      <th>2821</th>\n",
              "      <td>2822</td>\n",
              "      <td>78</td>\n",
              "      <td>814</td>\n",
              "      <td>51450</td>\n",
              "      <td>2</td>\n",
              "      <td>cash</td>\n",
              "      <td>2017-03-02 17:13:25</td>\n",
              "      <td>2017-03</td>\n",
              "      <td>2017-03-02</td>\n",
              "    </tr>\n",
              "    <tr>\n",
              "      <th>2818</th>\n",
              "      <td>2819</td>\n",
              "      <td>78</td>\n",
              "      <td>869</td>\n",
              "      <td>51450</td>\n",
              "      <td>2</td>\n",
              "      <td>debit</td>\n",
              "      <td>2017-03-17 6:25:51</td>\n",
              "      <td>2017-03</td>\n",
              "      <td>2017-03-17</td>\n",
              "    </tr>\n",
              "    <tr>\n",
              "      <th>493</th>\n",
              "      <td>494</td>\n",
              "      <td>78</td>\n",
              "      <td>983</td>\n",
              "      <td>51450</td>\n",
              "      <td>2</td>\n",
              "      <td>cash</td>\n",
              "      <td>2017-03-16 21:39:35</td>\n",
              "      <td>2017-03</td>\n",
              "      <td>2017-03-16</td>\n",
              "    </tr>\n",
              "    <tr>\n",
              "      <th>2495</th>\n",
              "      <td>2496</td>\n",
              "      <td>78</td>\n",
              "      <td>707</td>\n",
              "      <td>51450</td>\n",
              "      <td>2</td>\n",
              "      <td>cash</td>\n",
              "      <td>2017-03-26 4:38:52</td>\n",
              "      <td>2017-03</td>\n",
              "      <td>2017-03-26</td>\n",
              "    </tr>\n",
              "    <tr>\n",
              "      <th>2512</th>\n",
              "      <td>2513</td>\n",
              "      <td>78</td>\n",
              "      <td>935</td>\n",
              "      <td>51450</td>\n",
              "      <td>2</td>\n",
              "      <td>debit</td>\n",
              "      <td>2017-03-18 18:57:13</td>\n",
              "      <td>2017-03</td>\n",
              "      <td>2017-03-18</td>\n",
              "    </tr>\n",
              "    <tr>\n",
              "      <th>2452</th>\n",
              "      <td>2453</td>\n",
              "      <td>78</td>\n",
              "      <td>709</td>\n",
              "      <td>51450</td>\n",
              "      <td>2</td>\n",
              "      <td>cash</td>\n",
              "      <td>2017-03-27 11:04:04</td>\n",
              "      <td>2017-03</td>\n",
              "      <td>2017-03-27</td>\n",
              "    </tr>\n",
              "    <tr>\n",
              "      <th>4079</th>\n",
              "      <td>4080</td>\n",
              "      <td>78</td>\n",
              "      <td>946</td>\n",
              "      <td>51450</td>\n",
              "      <td>2</td>\n",
              "      <td>cash</td>\n",
              "      <td>2017-03-20 21:14:00</td>\n",
              "      <td>2017-03</td>\n",
              "      <td>2017-03-20</td>\n",
              "    </tr>\n",
              "    <tr>\n",
              "      <th>617</th>\n",
              "      <td>618</td>\n",
              "      <td>78</td>\n",
              "      <td>760</td>\n",
              "      <td>51450</td>\n",
              "      <td>2</td>\n",
              "      <td>cash</td>\n",
              "      <td>2017-03-18 11:18:42</td>\n",
              "      <td>2017-03</td>\n",
              "      <td>2017-03-18</td>\n",
              "    </tr>\n",
              "    <tr>\n",
              "      <th>1529</th>\n",
              "      <td>1530</td>\n",
              "      <td>78</td>\n",
              "      <td>810</td>\n",
              "      <td>51450</td>\n",
              "      <td>2</td>\n",
              "      <td>cash</td>\n",
              "      <td>2017-03-29 7:12:01</td>\n",
              "      <td>2017-03</td>\n",
              "      <td>2017-03-29</td>\n",
              "    </tr>\n",
              "    <tr>\n",
              "      <th>4311</th>\n",
              "      <td>4312</td>\n",
              "      <td>78</td>\n",
              "      <td>960</td>\n",
              "      <td>51450</td>\n",
              "      <td>2</td>\n",
              "      <td>debit</td>\n",
              "      <td>2017-03-01 3:02:10</td>\n",
              "      <td>2017-03</td>\n",
              "      <td>2017-03-01</td>\n",
              "    </tr>\n",
              "    <tr>\n",
              "      <th>4412</th>\n",
              "      <td>4413</td>\n",
              "      <td>78</td>\n",
              "      <td>756</td>\n",
              "      <td>51450</td>\n",
              "      <td>2</td>\n",
              "      <td>debit</td>\n",
              "      <td>2017-03-02 4:13:39</td>\n",
              "      <td>2017-03</td>\n",
              "      <td>2017-03-02</td>\n",
              "    </tr>\n",
              "    <tr>\n",
              "      <th>3440</th>\n",
              "      <td>3441</td>\n",
              "      <td>78</td>\n",
              "      <td>982</td>\n",
              "      <td>25725</td>\n",
              "      <td>1</td>\n",
              "      <td>debit</td>\n",
              "      <td>2017-03-19 19:02:54</td>\n",
              "      <td>2017-03</td>\n",
              "      <td>2017-03-19</td>\n",
              "    </tr>\n",
              "    <tr>\n",
              "      <th>4040</th>\n",
              "      <td>4041</td>\n",
              "      <td>78</td>\n",
              "      <td>852</td>\n",
              "      <td>25725</td>\n",
              "      <td>1</td>\n",
              "      <td>cash</td>\n",
              "      <td>2017-03-02 14:31:12</td>\n",
              "      <td>2017-03</td>\n",
              "      <td>2017-03-02</td>\n",
              "    </tr>\n",
              "    <tr>\n",
              "      <th>3780</th>\n",
              "      <td>3781</td>\n",
              "      <td>78</td>\n",
              "      <td>889</td>\n",
              "      <td>25725</td>\n",
              "      <td>1</td>\n",
              "      <td>cash</td>\n",
              "      <td>2017-03-11 21:14:50</td>\n",
              "      <td>2017-03</td>\n",
              "      <td>2017-03-11</td>\n",
              "    </tr>\n",
              "    <tr>\n",
              "      <th>4505</th>\n",
              "      <td>4506</td>\n",
              "      <td>78</td>\n",
              "      <td>866</td>\n",
              "      <td>25725</td>\n",
              "      <td>1</td>\n",
              "      <td>debit</td>\n",
              "      <td>2017-03-22 22:06:01</td>\n",
              "      <td>2017-03</td>\n",
              "      <td>2017-03-22</td>\n",
              "    </tr>\n",
              "    <tr>\n",
              "      <th>4584</th>\n",
              "      <td>4585</td>\n",
              "      <td>78</td>\n",
              "      <td>997</td>\n",
              "      <td>25725</td>\n",
              "      <td>1</td>\n",
              "      <td>cash</td>\n",
              "      <td>2017-03-25 21:48:44</td>\n",
              "      <td>2017-03</td>\n",
              "      <td>2017-03-25</td>\n",
              "    </tr>\n",
              "    <tr>\n",
              "      <th>2548</th>\n",
              "      <td>2549</td>\n",
              "      <td>78</td>\n",
              "      <td>861</td>\n",
              "      <td>25725</td>\n",
              "      <td>1</td>\n",
              "      <td>cash</td>\n",
              "      <td>2017-03-17 19:36:00</td>\n",
              "      <td>2017-03</td>\n",
              "      <td>2017-03-17</td>\n",
              "    </tr>\n",
              "    <tr>\n",
              "      <th>3151</th>\n",
              "      <td>3152</td>\n",
              "      <td>78</td>\n",
              "      <td>745</td>\n",
              "      <td>25725</td>\n",
              "      <td>1</td>\n",
              "      <td>credit_card</td>\n",
              "      <td>2017-03-18 13:13:07</td>\n",
              "      <td>2017-03</td>\n",
              "      <td>2017-03-18</td>\n",
              "    </tr>\n",
              "    <tr>\n",
              "      <th>3085</th>\n",
              "      <td>3086</td>\n",
              "      <td>78</td>\n",
              "      <td>910</td>\n",
              "      <td>25725</td>\n",
              "      <td>1</td>\n",
              "      <td>cash</td>\n",
              "      <td>2017-03-26 1:59:27</td>\n",
              "      <td>2017-03</td>\n",
              "      <td>2017-03-26</td>\n",
              "    </tr>\n",
              "    <tr>\n",
              "      <th>2922</th>\n",
              "      <td>2923</td>\n",
              "      <td>78</td>\n",
              "      <td>740</td>\n",
              "      <td>25725</td>\n",
              "      <td>1</td>\n",
              "      <td>debit</td>\n",
              "      <td>2017-03-12 20:10:58</td>\n",
              "      <td>2017-03</td>\n",
              "      <td>2017-03-12</td>\n",
              "    </tr>\n",
              "    <tr>\n",
              "      <th>2773</th>\n",
              "      <td>2774</td>\n",
              "      <td>78</td>\n",
              "      <td>890</td>\n",
              "      <td>25725</td>\n",
              "      <td>1</td>\n",
              "      <td>cash</td>\n",
              "      <td>2017-03-26 10:36:43</td>\n",
              "      <td>2017-03</td>\n",
              "      <td>2017-03-26</td>\n",
              "    </tr>\n",
              "    <tr>\n",
              "      <th>2270</th>\n",
              "      <td>2271</td>\n",
              "      <td>78</td>\n",
              "      <td>855</td>\n",
              "      <td>25725</td>\n",
              "      <td>1</td>\n",
              "      <td>credit_card</td>\n",
              "      <td>2017-03-14 23:58:22</td>\n",
              "      <td>2017-03</td>\n",
              "      <td>2017-03-14</td>\n",
              "    </tr>\n",
              "    <tr>\n",
              "      <th>1452</th>\n",
              "      <td>1453</td>\n",
              "      <td>78</td>\n",
              "      <td>812</td>\n",
              "      <td>25725</td>\n",
              "      <td>1</td>\n",
              "      <td>credit_card</td>\n",
              "      <td>2017-03-17 18:09:54</td>\n",
              "      <td>2017-03</td>\n",
              "      <td>2017-03-17</td>\n",
              "    </tr>\n",
              "    <tr>\n",
              "      <th>1419</th>\n",
              "      <td>1420</td>\n",
              "      <td>78</td>\n",
              "      <td>912</td>\n",
              "      <td>25725</td>\n",
              "      <td>1</td>\n",
              "      <td>cash</td>\n",
              "      <td>2017-03-30 12:23:43</td>\n",
              "      <td>2017-03</td>\n",
              "      <td>2017-03-30</td>\n",
              "    </tr>\n",
              "    <tr>\n",
              "      <th>1384</th>\n",
              "      <td>1385</td>\n",
              "      <td>78</td>\n",
              "      <td>867</td>\n",
              "      <td>25725</td>\n",
              "      <td>1</td>\n",
              "      <td>cash</td>\n",
              "      <td>2017-03-17 16:38:06</td>\n",
              "      <td>2017-03</td>\n",
              "      <td>2017-03-17</td>\n",
              "    </tr>\n",
              "    <tr>\n",
              "      <th>1204</th>\n",
              "      <td>1205</td>\n",
              "      <td>78</td>\n",
              "      <td>970</td>\n",
              "      <td>25725</td>\n",
              "      <td>1</td>\n",
              "      <td>credit_card</td>\n",
              "      <td>2017-03-17 22:32:21</td>\n",
              "      <td>2017-03</td>\n",
              "      <td>2017-03-17</td>\n",
              "    </tr>\n",
              "    <tr>\n",
              "      <th>1193</th>\n",
              "      <td>1194</td>\n",
              "      <td>78</td>\n",
              "      <td>944</td>\n",
              "      <td>25725</td>\n",
              "      <td>1</td>\n",
              "      <td>debit</td>\n",
              "      <td>2017-03-16 16:38:26</td>\n",
              "      <td>2017-03</td>\n",
              "      <td>2017-03-16</td>\n",
              "    </tr>\n",
              "    <tr>\n",
              "      <th>1056</th>\n",
              "      <td>1057</td>\n",
              "      <td>78</td>\n",
              "      <td>800</td>\n",
              "      <td>25725</td>\n",
              "      <td>1</td>\n",
              "      <td>debit</td>\n",
              "      <td>2017-03-15 10:16:45</td>\n",
              "      <td>2017-03</td>\n",
              "      <td>2017-03-15</td>\n",
              "    </tr>\n",
              "    <tr>\n",
              "      <th>160</th>\n",
              "      <td>161</td>\n",
              "      <td>78</td>\n",
              "      <td>990</td>\n",
              "      <td>25725</td>\n",
              "      <td>1</td>\n",
              "      <td>credit_card</td>\n",
              "      <td>2017-03-12 5:56:57</td>\n",
              "      <td>2017-03</td>\n",
              "      <td>2017-03-12</td>\n",
              "    </tr>\n",
              "    <tr>\n",
              "      <th>4918</th>\n",
              "      <td>4919</td>\n",
              "      <td>78</td>\n",
              "      <td>823</td>\n",
              "      <td>25725</td>\n",
              "      <td>1</td>\n",
              "      <td>cash</td>\n",
              "      <td>2017-03-15 13:26:46</td>\n",
              "      <td>2017-03</td>\n",
              "      <td>2017-03-15</td>\n",
              "    </tr>\n",
              "  </tbody>\n",
              "</table>\n",
              "</div>"
            ],
            "text/plain": [
              "      order_id  shop_id  ...  created_month  created_date\n",
              "15          16       42  ...        2017-03    2017-03-07\n",
              "1362      1363       42  ...        2017-03    2017-03-15\n",
              "2969      2970       42  ...        2017-03    2017-03-28\n",
              "2835      2836       42  ...        2017-03    2017-03-28\n",
              "4056      4057       42  ...        2017-03    2017-03-28\n",
              "60          61       42  ...        2017-03    2017-03-04\n",
              "2297      2298       42  ...        2017-03    2017-03-07\n",
              "2153      2154       42  ...        2017-03    2017-03-12\n",
              "1562      1563       42  ...        2017-03    2017-03-19\n",
              "1436      1437       42  ...        2017-03    2017-03-11\n",
              "1602      1603       42  ...        2017-03    2017-03-17\n",
              "3332      3333       42  ...        2017-03    2017-03-24\n",
              "1104      1105       42  ...        2017-03    2017-03-24\n",
              "4882      4883       42  ...        2017-03    2017-03-25\n",
              "4868      4869       42  ...        2017-03    2017-03-22\n",
              "520        521       42  ...        2017-03    2017-03-02\n",
              "4646      4647       42  ...        2017-03    2017-03-02\n",
              "511        512       78  ...        2017-03    2017-03-09\n",
              "3167      3168       78  ...        2017-03    2017-03-12\n",
              "3705      3706       78  ...        2017-03    2017-03-14\n",
              "3101      3102       78  ...        2017-03    2017-03-21\n",
              "490        491       78  ...        2017-03    2017-03-26\n",
              "2821      2822       78  ...        2017-03    2017-03-02\n",
              "2818      2819       78  ...        2017-03    2017-03-17\n",
              "493        494       78  ...        2017-03    2017-03-16\n",
              "2495      2496       78  ...        2017-03    2017-03-26\n",
              "2512      2513       78  ...        2017-03    2017-03-18\n",
              "2452      2453       78  ...        2017-03    2017-03-27\n",
              "4079      4080       78  ...        2017-03    2017-03-20\n",
              "617        618       78  ...        2017-03    2017-03-18\n",
              "1529      1530       78  ...        2017-03    2017-03-29\n",
              "4311      4312       78  ...        2017-03    2017-03-01\n",
              "4412      4413       78  ...        2017-03    2017-03-02\n",
              "3440      3441       78  ...        2017-03    2017-03-19\n",
              "4040      4041       78  ...        2017-03    2017-03-02\n",
              "3780      3781       78  ...        2017-03    2017-03-11\n",
              "4505      4506       78  ...        2017-03    2017-03-22\n",
              "4584      4585       78  ...        2017-03    2017-03-25\n",
              "2548      2549       78  ...        2017-03    2017-03-17\n",
              "3151      3152       78  ...        2017-03    2017-03-18\n",
              "3085      3086       78  ...        2017-03    2017-03-26\n",
              "2922      2923       78  ...        2017-03    2017-03-12\n",
              "2773      2774       78  ...        2017-03    2017-03-26\n",
              "2270      2271       78  ...        2017-03    2017-03-14\n",
              "1452      1453       78  ...        2017-03    2017-03-17\n",
              "1419      1420       78  ...        2017-03    2017-03-30\n",
              "1384      1385       78  ...        2017-03    2017-03-17\n",
              "1204      1205       78  ...        2017-03    2017-03-17\n",
              "1193      1194       78  ...        2017-03    2017-03-16\n",
              "1056      1057       78  ...        2017-03    2017-03-15\n",
              "160        161       78  ...        2017-03    2017-03-12\n",
              "4918      4919       78  ...        2017-03    2017-03-15\n",
              "\n",
              "[52 rows x 9 columns]"
            ]
          },
          "metadata": {
            "tags": []
          },
          "execution_count": 45
        }
      ]
    },
    {
      "cell_type": "markdown",
      "metadata": {
        "id": "K4tTlQrfm5WP",
        "colab_type": "text"
      },
      "source": [
        "From above result we can notice that the order amounts of 704000 occur at the same time each day and between the same store and user.\n",
        "\n"
      ]
    },
    {
      "cell_type": "markdown",
      "metadata": {
        "id": "t0AGDRCLlsvq",
        "colab_type": "text"
      },
      "source": [
        "## Time Series"
      ]
    },
    {
      "cell_type": "code",
      "metadata": {
        "id": "LxnNvcKAlm1U",
        "colab_type": "code",
        "colab": {}
      },
      "source": [
        "# Seperating dates from each entry\n",
        "data['created_date'] = data.created_at.str.split(' ', n=1).str[:1].apply(lambda key: str(key[0]))"
      ],
      "execution_count": 41,
      "outputs": []
    },
    {
      "cell_type": "code",
      "metadata": {
        "id": "UlBSXT4PlvSk",
        "colab_type": "code",
        "colab": {}
      },
      "source": [
        "# Creating Date - AOV Series\n",
        "\n",
        "AOV_per_day = pd.DataFrame(data.groupby('created_date').apply(lambda key: key.order_amount.sum() / key.total_items.sum()), columns = ['AOV'])"
      ],
      "execution_count": 42,
      "outputs": []
    },
    {
      "cell_type": "code",
      "metadata": {
        "id": "z7wKP1oRlxTL",
        "colab_type": "code",
        "colab": {
          "base_uri": "https://localhost:8080/",
          "height": 280
        },
        "outputId": "72734374-7b42-4411-9cab-46b6d6e0ec42"
      },
      "source": [
        "# Date - AOV Plot\n",
        "AOV_per_day.plot();"
      ],
      "execution_count": 43,
      "outputs": [
        {
          "output_type": "display_data",
          "data": {
            "image/png": "[encoded data removed]",
            "text/plain": [
              "<Figure size 432x288 with 1 Axes>"
            ]
          },
          "metadata": {
            "tags": [],
            "needs_background": "light"
          }
        }
      ]
    },
    {
      "cell_type": "markdown",
      "metadata": {
        "id": "tMDaqLs2l2oz",
        "colab_type": "text"
      },
      "source": [
        "###***We can notice the non-stationary seasonality without any trend in the above plot*** "
      ]
    },
    {
      "cell_type": "code",
      "metadata": {
        "id": "bA8npWthlzy7",
        "colab_type": "code",
        "colab": {}
      },
      "source": [
        ""
      ],
      "execution_count": null,
      "outputs": []
    },
    {
      "cell_type": "code",
      "metadata": {
        "id": "M0eC-x03mbrz",
        "colab_type": "code",
        "colab": {}
      },
      "source": [
        ""
      ],
      "execution_count": null,
      "outputs": []
    }
  ]
}